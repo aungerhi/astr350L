{
 "cells": [
  {
   "cell_type": "code",
   "execution_count": 150,
   "metadata": {
    "collapsed": true,
    "ExecuteTime": {
     "end_time": "2023-10-26T21:24:19.934857900Z",
     "start_time": "2023-10-26T21:24:19.918900400Z"
    }
   },
   "outputs": [],
   "source": [
    "#astr 350L\n",
    "#fall 2023\n",
    "#Lab 001"
   ]
  },
  {
   "cell_type": "code",
   "execution_count": 151,
   "outputs": [],
   "source": [
    "#packages\n",
    "import numpy as np\n",
    "import pandas as pd\n",
    "import matplotlib.pyplot as plt\n",
    "import math"
   ],
   "metadata": {
    "collapsed": false,
    "ExecuteTime": {
     "end_time": "2023-10-26T21:24:19.966771400Z",
     "start_time": "2023-10-26T21:24:19.929870900Z"
    }
   }
  },
  {
   "cell_type": "code",
   "execution_count": 152,
   "outputs": [],
   "source": [
    "#FUNCTIONS:\n",
    "\n",
    "#absolute magnitude to flux density:\n",
    "def fluxDens(intIndex , strCol):\n",
    "    jy = 3631   #janskys\n",
    "    abMag = df.loc[intIndex , strCol]\n",
    "    eVar = math.exp(-(2 * abMag)/5)\n",
    "    fluxDens = jy * eVar\n",
    "    return (fluxDens)\n",
    "\n",
    "#places result in df:\n",
    "def dfInsert(intIndex , strColFlux ,val):\n",
    "    df.at[ intIndex , strColFlux ] = val\n",
    "\n",
    "#combines func fluxDens and func dfInsert to make fun that finds flux density and then input it into the df\n",
    "def dfFluxDens (intIndex , strCol):\n",
    "    jy = 3631   #janskys\n",
    "    abMag = df.loc[intIndex , strCol]\n",
    "    eVar = math.exp(-(2 * abMag)/5)\n",
    "    fluxDens = jy * eVar\n",
    "\n",
    "    strColFlux = strCol + 'f'\n",
    "\n",
    "    df.at[ intIndex , strColFlux ] = fluxDens"
   ],
   "metadata": {
    "collapsed": false,
    "ExecuteTime": {
     "end_time": "2023-10-26T21:24:19.966771400Z",
     "start_time": "2023-10-26T21:24:19.945828200Z"
    }
   }
  },
  {
   "cell_type": "code",
   "execution_count": 153,
   "outputs": [
    {
     "data": {
      "text/plain": "         Unnamed: 0    W1     W2    W3     W4      U      B      V      R  \\\n0             Spica   NaN    NaN   NaN    NaN   0.59   0.65   0.99   1.27   \n1          Arcturus   NaN    NaN   NaN    NaN   3.25   1.09  -0.03  -0.82   \n2  Proxima Centauri   NaN    NaN   NaN    NaN  15.00  12.86  11.15   9.66   \n3            BP Tau   NaN    NaN   NaN    NaN    NaN  13.04  12.14  12.10   \n4      V347 Aurigae  9.86  9.601  9.01  7.941    NaN    NaN    NaN    NaN   \n5            3C 273   NaN    NaN   NaN    NaN    NaN  12.96  14.85  14.32   \n\n      I       J       H       K       u      g       r      i       z  \n0  1.75   2.410   2.930   3.490     NaN    NaN     NaN    NaN     NaN  \n1 -1.23  -1.342  -1.420  -1.061     NaN    NaN     NaN    NaN     NaN  \n2  7.86   6.267   6.225   6.234     NaN    NaN     NaN    NaN     NaN  \n3   NaN  10.008   9.610   9.586     NaN  12.65  11.570  10.98     NaN  \n4   NaN  10.900  10.215   9.912     NaN    NaN     NaN    NaN     NaN  \n5   NaN  12.602  12.343  11.787  13.859  12.99  12.871  12.63  13.242  ",
      "text/html": "<div>\n<style scoped>\n    .dataframe tbody tr th:only-of-type {\n        vertical-align: middle;\n    }\n\n    .dataframe tbody tr th {\n        vertical-align: top;\n    }\n\n    .dataframe thead th {\n        text-align: right;\n    }\n</style>\n<table border=\"1\" class=\"dataframe\">\n  <thead>\n    <tr style=\"text-align: right;\">\n      <th></th>\n      <th>Unnamed: 0</th>\n      <th>W1</th>\n      <th>W2</th>\n      <th>W3</th>\n      <th>W4</th>\n      <th>U</th>\n      <th>B</th>\n      <th>V</th>\n      <th>R</th>\n      <th>I</th>\n      <th>J</th>\n      <th>H</th>\n      <th>K</th>\n      <th>u</th>\n      <th>g</th>\n      <th>r</th>\n      <th>i</th>\n      <th>z</th>\n    </tr>\n  </thead>\n  <tbody>\n    <tr>\n      <th>0</th>\n      <td>Spica</td>\n      <td>NaN</td>\n      <td>NaN</td>\n      <td>NaN</td>\n      <td>NaN</td>\n      <td>0.59</td>\n      <td>0.65</td>\n      <td>0.99</td>\n      <td>1.27</td>\n      <td>1.75</td>\n      <td>2.410</td>\n      <td>2.930</td>\n      <td>3.490</td>\n      <td>NaN</td>\n      <td>NaN</td>\n      <td>NaN</td>\n      <td>NaN</td>\n      <td>NaN</td>\n    </tr>\n    <tr>\n      <th>1</th>\n      <td>Arcturus</td>\n      <td>NaN</td>\n      <td>NaN</td>\n      <td>NaN</td>\n      <td>NaN</td>\n      <td>3.25</td>\n      <td>1.09</td>\n      <td>-0.03</td>\n      <td>-0.82</td>\n      <td>-1.23</td>\n      <td>-1.342</td>\n      <td>-1.420</td>\n      <td>-1.061</td>\n      <td>NaN</td>\n      <td>NaN</td>\n      <td>NaN</td>\n      <td>NaN</td>\n      <td>NaN</td>\n    </tr>\n    <tr>\n      <th>2</th>\n      <td>Proxima Centauri</td>\n      <td>NaN</td>\n      <td>NaN</td>\n      <td>NaN</td>\n      <td>NaN</td>\n      <td>15.00</td>\n      <td>12.86</td>\n      <td>11.15</td>\n      <td>9.66</td>\n      <td>7.86</td>\n      <td>6.267</td>\n      <td>6.225</td>\n      <td>6.234</td>\n      <td>NaN</td>\n      <td>NaN</td>\n      <td>NaN</td>\n      <td>NaN</td>\n      <td>NaN</td>\n    </tr>\n    <tr>\n      <th>3</th>\n      <td>BP Tau</td>\n      <td>NaN</td>\n      <td>NaN</td>\n      <td>NaN</td>\n      <td>NaN</td>\n      <td>NaN</td>\n      <td>13.04</td>\n      <td>12.14</td>\n      <td>12.10</td>\n      <td>NaN</td>\n      <td>10.008</td>\n      <td>9.610</td>\n      <td>9.586</td>\n      <td>NaN</td>\n      <td>12.65</td>\n      <td>11.570</td>\n      <td>10.98</td>\n      <td>NaN</td>\n    </tr>\n    <tr>\n      <th>4</th>\n      <td>V347 Aurigae</td>\n      <td>9.86</td>\n      <td>9.601</td>\n      <td>9.01</td>\n      <td>7.941</td>\n      <td>NaN</td>\n      <td>NaN</td>\n      <td>NaN</td>\n      <td>NaN</td>\n      <td>NaN</td>\n      <td>10.900</td>\n      <td>10.215</td>\n      <td>9.912</td>\n      <td>NaN</td>\n      <td>NaN</td>\n      <td>NaN</td>\n      <td>NaN</td>\n      <td>NaN</td>\n    </tr>\n    <tr>\n      <th>5</th>\n      <td>3C 273</td>\n      <td>NaN</td>\n      <td>NaN</td>\n      <td>NaN</td>\n      <td>NaN</td>\n      <td>NaN</td>\n      <td>12.96</td>\n      <td>14.85</td>\n      <td>14.32</td>\n      <td>NaN</td>\n      <td>12.602</td>\n      <td>12.343</td>\n      <td>11.787</td>\n      <td>13.859</td>\n      <td>12.99</td>\n      <td>12.871</td>\n      <td>12.63</td>\n      <td>13.242</td>\n    </tr>\n  </tbody>\n</table>\n</div>"
     },
     "execution_count": 153,
     "metadata": {},
     "output_type": "execute_result"
    }
   ],
   "source": [
    "#import table for reading as dataframe(df)\n",
    "df = pd.read_csv('C:\\\\Users\\\\Andrew\\\\PycharmProjects\\\\Astr350L\\\\ASTR350L-001 - PANDAS DOWNLOAD.csv')\n",
    "df"
   ],
   "metadata": {
    "collapsed": false,
    "ExecuteTime": {
     "end_time": "2023-10-26T21:24:20.009714300Z",
     "start_time": "2023-10-26T21:24:19.959790200Z"
    }
   }
  },
  {
   "cell_type": "code",
   "execution_count": 154,
   "outputs": [],
   "source": [
    "#making df for each star:\n",
    "spicaDf = df.iloc[[0]]\n",
    "\n",
    "arcturusDf = df.iloc[[1]]\n",
    "\n",
    "proximaCentauriDf = df.iloc[[2]]\n",
    "\n",
    "bpTauDf = df.iloc[[3]]\n",
    "\n",
    "v437Aurigae = df.iloc[[4]]\n",
    "\n",
    "star3c273 = df.iloc[[5]]"
   ],
   "metadata": {
    "collapsed": false,
    "ExecuteTime": {
     "end_time": "2023-10-26T21:24:20.009714300Z",
     "start_time": "2023-10-26T21:24:19.990112100Z"
    }
   }
  },
  {
   "cell_type": "code",
   "execution_count": 155,
   "outputs": [],
   "source": [
    "#Filter bandwidths in micrometer (um) converted to meter:\n",
    "#source: https://coolwiki.ipac.caltech.edu/index.php/Central_wavelengths_and_zero_points , https://www.physics.unlv.edu/~jeffery/astro/photometry/photometry_sdss.html\n",
    "\n",
    "W1 = 3.4 * 10**(-6)\n",
    "W2 = 4.6 * 10**(-6)\n",
    "W3 = 12 * 10**(-6)\n",
    "W4 = 22 * 10**(-6)\n",
    "U = 0.36 * 10**(-6)\n",
    "B = 0.44 * 10**(-6)\n",
    "V = 0.55 * 10**(-6)\n",
    "R = 0.71 * 10**(-6)\n",
    "I = 0.79 * 10**(-6)\n",
    "J = 1.235 * 10**(-6)\n",
    "H = 1.662 * 10**(-6)\n",
    "K = 2.159 * 10**(-6)\n",
    "u = 0.356 * 10**(-6)\n",
    "g = 0.470 * 10**(-6)\n",
    "r = 0.617 * 10**(-6)\n",
    "i = 0.753 * 10**(-6)\n",
    "z = 0.878 * 10**(-6)\n"
   ],
   "metadata": {
    "collapsed": false,
    "ExecuteTime": {
     "end_time": "2023-10-26T21:24:20.029693Z",
     "start_time": "2023-10-26T21:24:20.006723200Z"
    }
   }
  },
  {
   "cell_type": "code",
   "execution_count": 156,
   "outputs": [],
   "source": [
    "# # finding flux density with ab wavelength and filter wavelength:\n",
    "#\n",
    "# # def fluxDens(fLam , lam):\n",
    "# #     c = 3*10**8 # (m/s)\n",
    "# #     fV = ((lam ** 2 ) / c ) * fLam\n",
    "# #     return (fV)\n",
    "#\n",
    "#\n",
    "# #convert meter to attometer (1*10**(-18))\n",
    "#\n",
    "# def attometerConvert(meter):\n",
    "#     atto = 1*10**(18)\n",
    "#     conv = meter * atto\n",
    "#     return (conv)"
   ],
   "metadata": {
    "collapsed": false,
    "ExecuteTime": {
     "end_time": "2023-10-26T21:24:20.080562300Z",
     "start_time": "2023-10-26T21:24:20.021716400Z"
    }
   }
  },
  {
   "cell_type": "code",
   "execution_count": 157,
   "outputs": [],
   "source": [
    "# adding new columns to dataframe to append flux densities:\n",
    "\n",
    "# adding blank columns to df\n",
    "df['W1f'] = np.nan\n",
    "df['W2f'] = np.nan\n",
    "df['W3f'] = np.nan\n",
    "df['W4f'] = np.nan\n",
    "df['Uf'] = np.nan\n",
    "df['Bf'] = np.nan\n",
    "df['Vf'] = np.nan\n",
    "df['Rf'] = np.nan\n",
    "df['If'] = np.nan\n",
    "df['Jf'] = np.nan\n",
    "df['Hf'] = np.nan\n",
    "df['Kf'] = np.nan\n",
    "df['uf'] = np.nan\n",
    "df['gf'] = np.nan\n",
    "df['rf'] = np.nan\n",
    "df['if'] = np.nan\n",
    "df['zf'] = np.nan\n",
    "\n",
    "\n",
    "#rearrange columns in df\n",
    "\n",
    "df = df[['W1', 'W1f' , 'W2', 'W2f' , 'W3' , 'W3f' , 'W4' , 'W4f' , 'U' , 'Uf' , 'B' , 'Bf' , 'V' , 'Vf' , 'R' , 'Rf' , 'I' , 'If' , 'J' , 'Jf' , 'H' , 'Hf' , 'K' , 'Kf' , 'u' , 'uf' , 'g' , 'gf' , 'r' , 'rf' , 'i' , 'if' , 'z' , 'zf']]"
   ],
   "metadata": {
    "collapsed": false,
    "ExecuteTime": {
     "end_time": "2023-10-26T21:24:20.080562300Z",
     "start_time": "2023-10-26T21:24:20.037701900Z"
    }
   }
  },
  {
   "cell_type": "code",
   "execution_count": 158,
   "outputs": [],
   "source": [
    "df = df.fillna('')"
   ],
   "metadata": {
    "collapsed": false,
    "ExecuteTime": {
     "end_time": "2023-10-26T21:24:20.080562300Z",
     "start_time": "2023-10-26T21:24:20.051884400Z"
    }
   }
  },
  {
   "cell_type": "code",
   "execution_count": 159,
   "outputs": [],
   "source": [
    "# #calculate flux density for each star and filter:\n",
    "#x = df.loc[4,'W1']\n",
    "# densEx = fluxDens(x,W1)\n",
    "# attoEx = attometerConvert(densEx)\n",
    "# print(densEx, attoEx)\n",
    "# df.at[4,'W1f'] = attoEx\n",
    "# df"
   ],
   "metadata": {
    "collapsed": false,
    "ExecuteTime": {
     "end_time": "2023-10-26T21:24:20.110710200Z",
     "start_time": "2023-10-26T21:24:20.066807200Z"
    }
   }
  },
  {
   "cell_type": "code",
   "execution_count": 160,
   "outputs": [],
   "source": [
    "\n",
    "# #test:\n",
    "# test = fluxDens(x)\n",
    "# test\n",
    "# #df.at[4,'W1f'] = test\n",
    "# df\n",
    "\n",
    "\n",
    "\n",
    "\n",
    "#\n",
    "# dfInsert(4,'W1f',test)\n",
    "# df"
   ],
   "metadata": {
    "collapsed": false,
    "ExecuteTime": {
     "end_time": "2023-10-26T21:24:20.166679200Z",
     "start_time": "2023-10-26T21:24:20.083554500Z"
    }
   }
  },
  {
   "cell_type": "code",
   "execution_count": 212,
   "outputs": [
    {
     "data": {
      "text/plain": "     W1        W1f     W2        W2f    W3        W3f     W4         W4f  \\\n0                                                                          \n1                                                                          \n2                                                                          \n3                                                                          \n4  9.86  70.334566  9.601  78.012055  9.01  98.816379  7.941  151.542084   \n5                                                                          \n\n      U           Uf  ...       u         uf      g         gf       r  \\\n0  0.59  2867.693627  ...                                                \n1  3.25   989.562941  ...                                                \n2  15.0     9.000349  ...                                                \n3                     ...                     12.65  23.040727   11.57   \n4                     ...                                                \n5                     ...  13.859  14.205985  12.99  20.110928  12.871   \n\n          rf      i         if       z         zf  \n0                                                  \n1                                                  \n2                                                  \n3   35.49044  10.98  44.937084                     \n4                                                  \n5  21.091358  12.63  23.225792  13.242  18.182569  \n\n[6 rows x 34 columns]",
      "text/html": "<div>\n<style scoped>\n    .dataframe tbody tr th:only-of-type {\n        vertical-align: middle;\n    }\n\n    .dataframe tbody tr th {\n        vertical-align: top;\n    }\n\n    .dataframe thead th {\n        text-align: right;\n    }\n</style>\n<table border=\"1\" class=\"dataframe\">\n  <thead>\n    <tr style=\"text-align: right;\">\n      <th></th>\n      <th>W1</th>\n      <th>W1f</th>\n      <th>W2</th>\n      <th>W2f</th>\n      <th>W3</th>\n      <th>W3f</th>\n      <th>W4</th>\n      <th>W4f</th>\n      <th>U</th>\n      <th>Uf</th>\n      <th>...</th>\n      <th>u</th>\n      <th>uf</th>\n      <th>g</th>\n      <th>gf</th>\n      <th>r</th>\n      <th>rf</th>\n      <th>i</th>\n      <th>if</th>\n      <th>z</th>\n      <th>zf</th>\n    </tr>\n  </thead>\n  <tbody>\n    <tr>\n      <th>0</th>\n      <td></td>\n      <td></td>\n      <td></td>\n      <td></td>\n      <td></td>\n      <td></td>\n      <td></td>\n      <td></td>\n      <td>0.59</td>\n      <td>2867.693627</td>\n      <td>...</td>\n      <td></td>\n      <td></td>\n      <td></td>\n      <td></td>\n      <td></td>\n      <td></td>\n      <td></td>\n      <td></td>\n      <td></td>\n      <td></td>\n    </tr>\n    <tr>\n      <th>1</th>\n      <td></td>\n      <td></td>\n      <td></td>\n      <td></td>\n      <td></td>\n      <td></td>\n      <td></td>\n      <td></td>\n      <td>3.25</td>\n      <td>989.562941</td>\n      <td>...</td>\n      <td></td>\n      <td></td>\n      <td></td>\n      <td></td>\n      <td></td>\n      <td></td>\n      <td></td>\n      <td></td>\n      <td></td>\n      <td></td>\n    </tr>\n    <tr>\n      <th>2</th>\n      <td></td>\n      <td></td>\n      <td></td>\n      <td></td>\n      <td></td>\n      <td></td>\n      <td></td>\n      <td></td>\n      <td>15.0</td>\n      <td>9.000349</td>\n      <td>...</td>\n      <td></td>\n      <td></td>\n      <td></td>\n      <td></td>\n      <td></td>\n      <td></td>\n      <td></td>\n      <td></td>\n      <td></td>\n      <td></td>\n    </tr>\n    <tr>\n      <th>3</th>\n      <td></td>\n      <td></td>\n      <td></td>\n      <td></td>\n      <td></td>\n      <td></td>\n      <td></td>\n      <td></td>\n      <td></td>\n      <td></td>\n      <td>...</td>\n      <td></td>\n      <td></td>\n      <td>12.65</td>\n      <td>23.040727</td>\n      <td>11.57</td>\n      <td>35.49044</td>\n      <td>10.98</td>\n      <td>44.937084</td>\n      <td></td>\n      <td></td>\n    </tr>\n    <tr>\n      <th>4</th>\n      <td>9.86</td>\n      <td>70.334566</td>\n      <td>9.601</td>\n      <td>78.012055</td>\n      <td>9.01</td>\n      <td>98.816379</td>\n      <td>7.941</td>\n      <td>151.542084</td>\n      <td></td>\n      <td></td>\n      <td>...</td>\n      <td></td>\n      <td></td>\n      <td></td>\n      <td></td>\n      <td></td>\n      <td></td>\n      <td></td>\n      <td></td>\n      <td></td>\n      <td></td>\n    </tr>\n    <tr>\n      <th>5</th>\n      <td></td>\n      <td></td>\n      <td></td>\n      <td></td>\n      <td></td>\n      <td></td>\n      <td></td>\n      <td></td>\n      <td></td>\n      <td></td>\n      <td>...</td>\n      <td>13.859</td>\n      <td>14.205985</td>\n      <td>12.99</td>\n      <td>20.110928</td>\n      <td>12.871</td>\n      <td>21.091358</td>\n      <td>12.63</td>\n      <td>23.225792</td>\n      <td>13.242</td>\n      <td>18.182569</td>\n    </tr>\n  </tbody>\n</table>\n<p>6 rows × 34 columns</p>\n</div>"
     },
     "execution_count": 212,
     "metadata": {},
     "output_type": "execute_result"
    }
   ],
   "source": [
    "index =5\n",
    "column = 'i'\n",
    "dfFluxDens( index, column)\n",
    "df"
   ],
   "metadata": {
    "collapsed": false,
    "ExecuteTime": {
     "end_time": "2023-10-26T22:05:07.797812100Z",
     "start_time": "2023-10-26T22:05:07.773663400Z"
    }
   }
  },
  {
   "cell_type": "code",
   "execution_count": 225,
   "outputs": [
    {
     "data": {
      "text/plain": "     W1        W1f     W2        W2f    W3        W3f     W4         W4f  \\\n0   NaN        NaN    NaN        NaN   NaN        NaN    NaN         NaN   \n1   NaN        NaN    NaN        NaN   NaN        NaN    NaN         NaN   \n2   NaN        NaN    NaN        NaN   NaN        NaN    NaN         NaN   \n3   NaN        NaN    NaN        NaN   NaN        NaN    NaN         NaN   \n4  9.86  70.334566  9.601  78.012055  9.01  98.816379  7.941  151.542084   \n5   NaN        NaN    NaN        NaN   NaN        NaN    NaN         NaN   \n\n      U           Uf  ...       u         uf      g         gf       r  \\\n0  0.59  2867.693627  ...     NaN        NaN    NaN        NaN     NaN   \n1  3.25   989.562941  ...     NaN        NaN    NaN        NaN     NaN   \n2  15.0     9.000349  ...     NaN        NaN    NaN        NaN     NaN   \n3   NaN          NaN  ...     NaN        NaN  12.65  23.040727   11.57   \n4   NaN          NaN  ...     NaN        NaN    NaN        NaN     NaN   \n5   NaN          NaN  ...  13.859  14.205985  12.99  20.110928  12.871   \n\n          rf      i         if       z         zf  \n0        NaN    NaN        NaN     NaN        NaN  \n1        NaN    NaN        NaN     NaN        NaN  \n2        NaN    NaN        NaN     NaN        NaN  \n3   35.49044  10.98  44.937084     NaN        NaN  \n4        NaN    NaN        NaN     NaN        NaN  \n5  21.091358  12.63  23.225792  13.242  18.182569  \n\n[6 rows x 34 columns]",
      "text/html": "<div>\n<style scoped>\n    .dataframe tbody tr th:only-of-type {\n        vertical-align: middle;\n    }\n\n    .dataframe tbody tr th {\n        vertical-align: top;\n    }\n\n    .dataframe thead th {\n        text-align: right;\n    }\n</style>\n<table border=\"1\" class=\"dataframe\">\n  <thead>\n    <tr style=\"text-align: right;\">\n      <th></th>\n      <th>W1</th>\n      <th>W1f</th>\n      <th>W2</th>\n      <th>W2f</th>\n      <th>W3</th>\n      <th>W3f</th>\n      <th>W4</th>\n      <th>W4f</th>\n      <th>U</th>\n      <th>Uf</th>\n      <th>...</th>\n      <th>u</th>\n      <th>uf</th>\n      <th>g</th>\n      <th>gf</th>\n      <th>r</th>\n      <th>rf</th>\n      <th>i</th>\n      <th>if</th>\n      <th>z</th>\n      <th>zf</th>\n    </tr>\n  </thead>\n  <tbody>\n    <tr>\n      <th>0</th>\n      <td>NaN</td>\n      <td>NaN</td>\n      <td>NaN</td>\n      <td>NaN</td>\n      <td>NaN</td>\n      <td>NaN</td>\n      <td>NaN</td>\n      <td>NaN</td>\n      <td>0.59</td>\n      <td>2867.693627</td>\n      <td>...</td>\n      <td>NaN</td>\n      <td>NaN</td>\n      <td>NaN</td>\n      <td>NaN</td>\n      <td>NaN</td>\n      <td>NaN</td>\n      <td>NaN</td>\n      <td>NaN</td>\n      <td>NaN</td>\n      <td>NaN</td>\n    </tr>\n    <tr>\n      <th>1</th>\n      <td>NaN</td>\n      <td>NaN</td>\n      <td>NaN</td>\n      <td>NaN</td>\n      <td>NaN</td>\n      <td>NaN</td>\n      <td>NaN</td>\n      <td>NaN</td>\n      <td>3.25</td>\n      <td>989.562941</td>\n      <td>...</td>\n      <td>NaN</td>\n      <td>NaN</td>\n      <td>NaN</td>\n      <td>NaN</td>\n      <td>NaN</td>\n      <td>NaN</td>\n      <td>NaN</td>\n      <td>NaN</td>\n      <td>NaN</td>\n      <td>NaN</td>\n    </tr>\n    <tr>\n      <th>2</th>\n      <td>NaN</td>\n      <td>NaN</td>\n      <td>NaN</td>\n      <td>NaN</td>\n      <td>NaN</td>\n      <td>NaN</td>\n      <td>NaN</td>\n      <td>NaN</td>\n      <td>15.0</td>\n      <td>9.000349</td>\n      <td>...</td>\n      <td>NaN</td>\n      <td>NaN</td>\n      <td>NaN</td>\n      <td>NaN</td>\n      <td>NaN</td>\n      <td>NaN</td>\n      <td>NaN</td>\n      <td>NaN</td>\n      <td>NaN</td>\n      <td>NaN</td>\n    </tr>\n    <tr>\n      <th>3</th>\n      <td>NaN</td>\n      <td>NaN</td>\n      <td>NaN</td>\n      <td>NaN</td>\n      <td>NaN</td>\n      <td>NaN</td>\n      <td>NaN</td>\n      <td>NaN</td>\n      <td>NaN</td>\n      <td>NaN</td>\n      <td>...</td>\n      <td>NaN</td>\n      <td>NaN</td>\n      <td>12.65</td>\n      <td>23.040727</td>\n      <td>11.57</td>\n      <td>35.49044</td>\n      <td>10.98</td>\n      <td>44.937084</td>\n      <td>NaN</td>\n      <td>NaN</td>\n    </tr>\n    <tr>\n      <th>4</th>\n      <td>9.86</td>\n      <td>70.334566</td>\n      <td>9.601</td>\n      <td>78.012055</td>\n      <td>9.01</td>\n      <td>98.816379</td>\n      <td>7.941</td>\n      <td>151.542084</td>\n      <td>NaN</td>\n      <td>NaN</td>\n      <td>...</td>\n      <td>NaN</td>\n      <td>NaN</td>\n      <td>NaN</td>\n      <td>NaN</td>\n      <td>NaN</td>\n      <td>NaN</td>\n      <td>NaN</td>\n      <td>NaN</td>\n      <td>NaN</td>\n      <td>NaN</td>\n    </tr>\n    <tr>\n      <th>5</th>\n      <td>NaN</td>\n      <td>NaN</td>\n      <td>NaN</td>\n      <td>NaN</td>\n      <td>NaN</td>\n      <td>NaN</td>\n      <td>NaN</td>\n      <td>NaN</td>\n      <td>NaN</td>\n      <td>NaN</td>\n      <td>...</td>\n      <td>13.859</td>\n      <td>14.205985</td>\n      <td>12.99</td>\n      <td>20.110928</td>\n      <td>12.871</td>\n      <td>21.091358</td>\n      <td>12.63</td>\n      <td>23.225792</td>\n      <td>13.242</td>\n      <td>18.182569</td>\n    </tr>\n  </tbody>\n</table>\n<p>6 rows × 34 columns</p>\n</div>"
     },
     "execution_count": 225,
     "metadata": {},
     "output_type": "execute_result"
    }
   ],
   "source": [
    "#preserving df with flux densitys added and removing string blanks cells for plotting:\n",
    "dfFluxCopy = df.copy()\n",
    "dfFluxCopy = dfFluxCopy.mask(dfFluxCopy == '')\n",
    "dfFluxCopy"
   ],
   "metadata": {
    "collapsed": false,
    "ExecuteTime": {
     "end_time": "2023-10-26T22:23:39.837702700Z",
     "start_time": "2023-10-26T22:23:39.818673200Z"
    }
   }
  },
  {
   "cell_type": "code",
   "execution_count": null,
   "outputs": [],
   "source": [],
   "metadata": {
    "collapsed": false
   }
  }
 ],
 "metadata": {
  "kernelspec": {
   "display_name": "Python 3",
   "language": "python",
   "name": "python3"
  },
  "language_info": {
   "codemirror_mode": {
    "name": "ipython",
    "version": 2
   },
   "file_extension": ".py",
   "mimetype": "text/x-python",
   "name": "python",
   "nbconvert_exporter": "python",
   "pygments_lexer": "ipython2",
   "version": "2.7.6"
  }
 },
 "nbformat": 4,
 "nbformat_minor": 0
}
